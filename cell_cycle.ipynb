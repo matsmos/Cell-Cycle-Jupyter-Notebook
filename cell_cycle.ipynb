{
 "cells": [
  {
   "cell_type": "markdown",
   "metadata": {},
   "source": [
    "### Jupyter Note book successfully started\n",
    "If you see this text. The jupyter notebook successfully started."
   ]
  },
  {
   "cell_type": "code",
   "execution_count": 3,
   "metadata": {},
   "outputs": [
    {
     "data": {
      "text/markdown": [
       "**Yes!** -  $\\frac{a}{b}=c$"
      ],
      "text/plain": [
       "<IPython.core.display.Markdown object>"
      ]
     },
     "metadata": {},
     "output_type": "display_data"
    }
   ],
   "source": [
    "###\n",
    "# general jupyter setup\n",
    "import numpy as np # using powerful arrays\n",
    "\n",
    "#using interactive widgets in a jupyter notebook\n",
    "#import micropip\n",
    "#await micropip.install('ipywidgets')\n",
    "from ipywidgets import interactive, fixed\n",
    "style = {'description_width': 'initial'}\n",
    "\n",
    "# make things look nice\n",
    "from IPython.display import display, Markdown\n",
    "\n",
    "# libraty for ordinary differential equations\n",
    "from scipy.integrate import odeint # This is an important library\n",
    "\n",
    "#########################################################################\n",
    "# plotting & making nice plots\n",
    "from matplotlib import pyplot as plt # plotting\n",
    "\n",
    "from matplotlib.ticker import FormatStrFormatter\n",
    "from matplotlib import rcParams\n",
    "\n",
    "display(Markdown(\"**Yes!** -  $\\\\frac{a}{b}=c$\"))"
   ]
  }
 ],
 "metadata": {
  "kernelspec": {
   "display_name": "Python 3",
   "language": "python",
   "name": "python3"
  },
  "language_info": {
   "codemirror_mode": {
    "name": "ipython",
    "version": 3
   },
   "file_extension": ".py",
   "mimetype": "text/x-python",
   "name": "python",
   "nbconvert_exporter": "python",
   "pygments_lexer": "ipython3",
   "version": "3.7.3"
  }
 },
 "nbformat": 4,
 "nbformat_minor": 4
}
